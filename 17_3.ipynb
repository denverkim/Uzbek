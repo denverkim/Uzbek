{
  "nbformat": 4,
  "nbformat_minor": 0,
  "metadata": {
    "colab": {
      "provenance": [],
      "authorship_tag": "ABX9TyPCnHkPxF0K8aAFSu4rmbAr",
      "include_colab_link": true
    },
    "kernelspec": {
      "name": "python3",
      "display_name": "Python 3"
    },
    "language_info": {
      "name": "python"
    }
  },
  "cells": [
    {
      "cell_type": "markdown",
      "metadata": {
        "id": "view-in-github",
        "colab_type": "text"
      },
      "source": [
        "<a href=\"https://colab.research.google.com/github/denverkim/Uzbek/blob/main/17_3.ipynb\" target=\"_parent\"><img src=\"https://colab.research.google.com/assets/colab-badge.svg\" alt=\"Open In Colab\"/></a>"
      ]
    },
    {
      "cell_type": "markdown",
      "source": [
        "# Video Description Generation"
      ],
      "metadata": {
        "id": "hqFzj5b6ql6-"
      }
    },
    {
      "cell_type": "code",
      "execution_count": 3,
      "metadata": {
        "colab": {
          "base_uri": "https://localhost:8080/"
        },
        "id": "JKQqCe09tgp8",
        "outputId": "5ebcebda-7515-4693-e3a8-892448944132"
      },
      "outputs": [
        {
          "output_type": "stream",
          "name": "stdout",
          "text": [
            "--2025-08-21 08:09:34--  https://download.blender.org/peach/bigbuckbunny_\n",
            "Resolving download.blender.org (download.blender.org)... 172.66.172.236, 104.20.41.146, 2606:4700:10::6814:2992, ...\n",
            "Connecting to download.blender.org (download.blender.org)|172.66.172.236|:443... connected.\n",
            "HTTP request sent, awaiting response... 404 Not Found\n",
            "2025-08-21 08:09:34 ERROR 404: Not Found.\n",
            "\n",
            "--2025-08-21 08:09:35--  http://movies/BigBuckBunny_320x180.mp4\n",
            "Resolving movies (movies)... failed: Name or service not known.\n",
            "wget: unable to resolve host address ‘movies’\n"
          ]
        }
      ],
      "source": [
        "# Downloading a video for multimodal use\n",
        "\n",
        "!wget https://download.blender.org/peach/bigbuckbunny_ movies/BigBuckBunny_320x180.mp4"
      ]
    },
    {
      "cell_type": "code",
      "source": [
        "# File Upload Using the File API\n",
        "\n",
        "import google.generativeai as genai\n",
        "\n",
        "# Path to the file to upload\n",
        "video_file_name = \"/content/BigBuckBunny_320x180.mp4\"\n",
        "\n",
        "print(\"Uploading file...\")\n",
        "# video_file = genai.upload_file(path=video_file_name)\n",
        "# print(f\"Upload completed: {video_file.uri}\")"
      ],
      "metadata": {
        "id": "cd69agyArKl8"
      },
      "execution_count": null,
      "outputs": []
    },
    {
      "cell_type": "code",
      "source": [
        "\n",
        "\n",
        "# Checking File Processing Status\n",
        "import time\n",
        "\n",
        "while video_file.state.name == \"PROCESSING\":\n",
        "    print('Waiting for video to be processed...')\n",
        "    time.sleep(10)\n",
        "    # video_file = genai.get_file(video_file.name)\n",
        "\n",
        "# if video_file.state.name == \"FAILED\":\n",
        "#     raise ValueError(video_file.state.name)\n",
        "\n",
        "# print(f\"Video processing complete: {video_file.uri}\")\n",
        "\n",
        "# Retrieve Uploaded File List (List Files)\n",
        "# Print all uploaded files and their URIs\n",
        "# for file in genai.list_files():\n",
        "#     print(f\"{file.display_name}, URI: {file.uri}\")\n",
        "\n",
        "# Delete Files\n",
        "# genai.delete_file(video_file.name)\n",
        "# print(f'Deleted file {video_file.uri}')\n",
        "\n",
        "# Video Description Generation\n",
        "# Download a video for multimodal use\n",
        "!wget https://download.blender.org/peach/bigbuckbunny_ movies/BigBuckBunny_320x180.mp4\n",
        "\n",
        "# Check the video\n",
        "from IPython.display import Video\n",
        "\n",
        "Video(\"/content/BigBuckBunny_320x180.mp4\", embed=True)\n",
        "\n",
        "# Video Description Generation\n",
        "\n",
        "# Create the prompt.\n",
        "prompt = \"Describe this video.\"\n",
        "\n",
        "# Set the model to Gemini 1.5 Flash.\n",
        "model = genai.GenerativeModel(model_name=\"models/gemini-1.5-flash\")\n",
        "\n",
        "# Make the LLM request.\n",
        "print(\"Making LLM inference request...\")\n",
        "response = model.generate_content([prompt, video_file],\n",
        "request_options={\"timeout\": 600})\n",
        "\n",
        "print(response.text)\n",
        "\n",
        "# Video Summarization and Question Generation\n",
        "\n",
        "!wget https://storage.googleapis.com/generativeai- downloads/images/GreatRedSpot.mp4\n",
        "\n",
        "# Generate a Summary of the Video and Create Questions\n",
        "\n",
        "# Create the prompt.\n",
        "prompt = \"Summarize this video. Then create a quiz with answer key based on the information in the video.\"\n",
        "\n",
        "# Choose a Gemini model.\n",
        "model = genai.GenerativeModel(model_name=\"gemini-1.5-pro\")\n",
        "\n",
        "# Make the LLM request.\n",
        "print(\"Making LLM inference request...\")\n",
        "response = model.generate_content([video_file, prompt],\n",
        "request_options={\"timeout\": 600})\n",
        "\n",
        "# Print the response, rendering any Markdown\n",
        "print(response.text)\n",
        "\n",
        "\n",
        "# Using Timestamps\n",
        "# Create the prompt.\n",
        "prompt = \"What are the examples given at 01:05 and 01:19 supposed to show us?\"\n",
        "\n",
        "# Choose a Gemini model.\n",
        "model = genai.GenerativeModel(model_name=\"gemini-1.5-pro\")\n",
        "\n",
        "# Make the LLM request.\n",
        "print(\"Making LLM inference request...\")\n",
        "response = model.generate_content([prompt, video_file],\n",
        "request_options={\"timeout\":  600})\n",
        "\n",
        "print(response.text)\n",
        "\n",
        "# Video Description and Timestamp Usage\n",
        "\n",
        "\n",
        "\n",
        "# Create the prompt.\n",
        "prompt = \"Transcribe the audio, giving timestamps. Also provide visual descriptions.\"\n",
        "\n",
        "# Choose a Gemini model.\n",
        "model = genai.GenerativeModel(model_name=\"gemini-1.5-pro\")\n",
        "\n",
        "# Make the LLM request.\n",
        "print(\"Making LLM inference request...\")\n",
        "response = model.generate_content([prompt, video_file],\n",
        "request_options={\"timeout\": 600})\n",
        "\n",
        "print(response.text)"
      ],
      "metadata": {
        "id": "Sl3ZOleFuhyz"
      },
      "execution_count": null,
      "outputs": []
    }
  ]
}