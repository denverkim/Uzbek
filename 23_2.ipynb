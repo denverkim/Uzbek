{
  "nbformat": 4,
  "nbformat_minor": 0,
  "metadata": {
    "colab": {
      "provenance": [],
      "authorship_tag": "ABX9TyOUOgkepNrD/sFRtbRHbiPP",
      "include_colab_link": true
    },
    "kernelspec": {
      "name": "python3",
      "display_name": "Python 3"
    },
    "language_info": {
      "name": "python"
    }
  },
  "cells": [
    {
      "cell_type": "markdown",
      "metadata": {
        "id": "view-in-github",
        "colab_type": "text"
      },
      "source": [
        "<a href=\"https://colab.research.google.com/github/denverkim/Uzbek/blob/main/23_2.ipynb\" target=\"_parent\"><img src=\"https://colab.research.google.com/assets/colab-badge.svg\" alt=\"Open In Colab\"/></a>"
      ]
    },
    {
      "cell_type": "markdown",
      "source": [
        "# Single Customer Data"
      ],
      "metadata": {
        "id": "ni02LDuvR8ig"
      }
    },
    {
      "cell_type": "code",
      "source": [
        "# !pip install langchain langchain-openai\n",
        "\n",
        "from langchain_openai import ChatOpenAI\n",
        "from langchain.prompts import PromptTemplate\n",
        "\n",
        "# 1. Initialize LLM\n",
        "from google.colab import userdata\n",
        "OPENAI_API_KEY = userdata.get('OPENAI_API_KEY')\n",
        "\n",
        "llm = ChatOpenAI(model_name=\"gpt-4o-mini\", temperature=0.7, api_key=OPENAI_API_KEY)\n",
        "\n",
        "# 2. Define automated prompt template\n",
        "prompt_template = PromptTemplate.from_template(\"\"\"\n",
        "You are a marketing expert. Write a personalized email to {customer_name}.\n",
        "Mention their recent purchase of {last_purchase} and recommend {recommended_product}.\n",
        "Use a polite and persuasive business tone.\n",
        "Limit the email to around 150 words.\n",
        "\"\"\")\n",
        "\n",
        "# 3. Single customer data\n",
        "input_data = {\n",
        "    \"customer_name\": \"Michael Smith\",\n",
        "    \"last_purchase\": \"wireless keyboard\",\n",
        "    \"recommended_product\": \"ergonomic mouse\"\n",
        "}\n",
        "\n",
        "# 4. Fill prompt dynamically\n",
        "filled_prompt = prompt_template.format(**input_data)\n",
        "\n",
        "# 5. Generate personalized email\n",
        "response = llm.invoke(filled_prompt)\n",
        "\n",
        "# 6. Output result\n",
        "print(\"=== Automated Prompt ===\")\n",
        "print(filled_prompt)\n",
        "print(\"\\n=== Generated Email ===\")\n",
        "print(response.content)\n"
      ],
      "metadata": {
        "colab": {
          "base_uri": "https://localhost:8080/"
        },
        "id": "AIirM3O_QvAr",
        "outputId": "1194c535-2ddc-4d82-db07-b207f6573220"
      },
      "execution_count": 14,
      "outputs": [
        {
          "output_type": "stream",
          "name": "stdout",
          "text": [
            "=== Automated Prompt ===\n",
            "\n",
            "You are a marketing expert. Write a personalized email to Michael Smith.\n",
            "Mention their recent purchase of wireless keyboard and recommend ergonomic mouse.\n",
            "Use a polite and persuasive business tone.\n",
            "Limit the email to around 150 words.\n",
            "\n",
            "\n",
            "=== Generated Email ===\n",
            "Subject: Enhance Your Setup with the Perfect Ergonomic Mouse\n",
            "\n",
            "Dear Michael,\n",
            "\n",
            "I hope this message finds you well! I wanted to take a moment to thank you for your recent purchase of the wireless keyboard. I trust it’s already making your typing experience more enjoyable.\n",
            "\n",
            "To complement your new keyboard and elevate your productivity further, I recommend considering an ergonomic mouse. This can significantly reduce wrist strain and enhance comfort during long hours of use. Our latest models are designed not only for functionality but also to fit seamlessly into your workspace.\n",
            "\n",
            "If you have any questions or would like personalized recommendations, please don’t hesitate to reach out. Your satisfaction is our top priority, and we’re here to help you create the perfect setup.\n",
            "\n",
            "Thank you once again for choosing us. \n",
            "\n",
            "Best regards,\n",
            "\n",
            "[Your Name]  \n",
            "[Your Position]  \n",
            "[Your Company]  \n",
            "[Your Contact Information]  \n"
          ]
        }
      ]
    },
    {
      "cell_type": "markdown",
      "source": [
        "# Multiple Customer Data"
      ],
      "metadata": {
        "id": "91LUeltAQqm0"
      }
    },
    {
      "cell_type": "code",
      "source": [
        "!pip install langchain langchain-openai"
      ],
      "metadata": {
        "colab": {
          "base_uri": "https://localhost:8080/"
        },
        "collapsed": true,
        "id": "84qjLJsWjTR0",
        "outputId": "48e8a5c7-c5ec-4eb9-b793-1cbd903f4562"
      },
      "execution_count": 4,
      "outputs": [
        {
          "output_type": "stream",
          "name": "stdout",
          "text": [
            "Requirement already satisfied: langchain in /usr/local/lib/python3.12/dist-packages (0.3.27)\n",
            "Collecting langchain-openai\n",
            "  Downloading langchain_openai-0.3.31-py3-none-any.whl.metadata (2.4 kB)\n",
            "Requirement already satisfied: langchain-core<1.0.0,>=0.3.72 in /usr/local/lib/python3.12/dist-packages (from langchain) (0.3.74)\n",
            "Requirement already satisfied: langchain-text-splitters<1.0.0,>=0.3.9 in /usr/local/lib/python3.12/dist-packages (from langchain) (0.3.9)\n",
            "Requirement already satisfied: langsmith>=0.1.17 in /usr/local/lib/python3.12/dist-packages (from langchain) (0.4.14)\n",
            "Requirement already satisfied: pydantic<3.0.0,>=2.7.4 in /usr/local/lib/python3.12/dist-packages (from langchain) (2.11.7)\n",
            "Requirement already satisfied: SQLAlchemy<3,>=1.4 in /usr/local/lib/python3.12/dist-packages (from langchain) (2.0.43)\n",
            "Requirement already satisfied: requests<3,>=2 in /usr/local/lib/python3.12/dist-packages (from langchain) (2.32.4)\n",
            "Requirement already satisfied: PyYAML>=5.3 in /usr/local/lib/python3.12/dist-packages (from langchain) (6.0.2)\n",
            "Requirement already satisfied: openai<2.0.0,>=1.99.9 in /usr/local/lib/python3.12/dist-packages (from langchain-openai) (1.100.0)\n",
            "Requirement already satisfied: tiktoken<1,>=0.7 in /usr/local/lib/python3.12/dist-packages (from langchain-openai) (0.11.0)\n",
            "Requirement already satisfied: tenacity!=8.4.0,<10.0.0,>=8.1.0 in /usr/local/lib/python3.12/dist-packages (from langchain-core<1.0.0,>=0.3.72->langchain) (8.5.0)\n",
            "Requirement already satisfied: jsonpatch<2.0,>=1.33 in /usr/local/lib/python3.12/dist-packages (from langchain-core<1.0.0,>=0.3.72->langchain) (1.33)\n",
            "Requirement already satisfied: typing-extensions>=4.7 in /usr/local/lib/python3.12/dist-packages (from langchain-core<1.0.0,>=0.3.72->langchain) (4.14.1)\n",
            "Requirement already satisfied: packaging>=23.2 in /usr/local/lib/python3.12/dist-packages (from langchain-core<1.0.0,>=0.3.72->langchain) (25.0)\n",
            "Requirement already satisfied: httpx<1,>=0.23.0 in /usr/local/lib/python3.12/dist-packages (from langsmith>=0.1.17->langchain) (0.28.1)\n",
            "Requirement already satisfied: orjson>=3.9.14 in /usr/local/lib/python3.12/dist-packages (from langsmith>=0.1.17->langchain) (3.11.2)\n",
            "Requirement already satisfied: requests-toolbelt>=1.0.0 in /usr/local/lib/python3.12/dist-packages (from langsmith>=0.1.17->langchain) (1.0.0)\n",
            "Requirement already satisfied: zstandard>=0.23.0 in /usr/local/lib/python3.12/dist-packages (from langsmith>=0.1.17->langchain) (0.24.0)\n",
            "Requirement already satisfied: anyio<5,>=3.5.0 in /usr/local/lib/python3.12/dist-packages (from openai<2.0.0,>=1.99.9->langchain-openai) (4.10.0)\n",
            "Requirement already satisfied: distro<2,>=1.7.0 in /usr/local/lib/python3.12/dist-packages (from openai<2.0.0,>=1.99.9->langchain-openai) (1.9.0)\n",
            "Requirement already satisfied: jiter<1,>=0.4.0 in /usr/local/lib/python3.12/dist-packages (from openai<2.0.0,>=1.99.9->langchain-openai) (0.10.0)\n",
            "Requirement already satisfied: sniffio in /usr/local/lib/python3.12/dist-packages (from openai<2.0.0,>=1.99.9->langchain-openai) (1.3.1)\n",
            "Requirement already satisfied: tqdm>4 in /usr/local/lib/python3.12/dist-packages (from openai<2.0.0,>=1.99.9->langchain-openai) (4.67.1)\n",
            "Requirement already satisfied: annotated-types>=0.6.0 in /usr/local/lib/python3.12/dist-packages (from pydantic<3.0.0,>=2.7.4->langchain) (0.7.0)\n",
            "Requirement already satisfied: pydantic-core==2.33.2 in /usr/local/lib/python3.12/dist-packages (from pydantic<3.0.0,>=2.7.4->langchain) (2.33.2)\n",
            "Requirement already satisfied: typing-inspection>=0.4.0 in /usr/local/lib/python3.12/dist-packages (from pydantic<3.0.0,>=2.7.4->langchain) (0.4.1)\n",
            "Requirement already satisfied: charset_normalizer<4,>=2 in /usr/local/lib/python3.12/dist-packages (from requests<3,>=2->langchain) (3.4.3)\n",
            "Requirement already satisfied: idna<4,>=2.5 in /usr/local/lib/python3.12/dist-packages (from requests<3,>=2->langchain) (3.10)\n",
            "Requirement already satisfied: urllib3<3,>=1.21.1 in /usr/local/lib/python3.12/dist-packages (from requests<3,>=2->langchain) (2.5.0)\n",
            "Requirement already satisfied: certifi>=2017.4.17 in /usr/local/lib/python3.12/dist-packages (from requests<3,>=2->langchain) (2025.8.3)\n",
            "Requirement already satisfied: greenlet>=1 in /usr/local/lib/python3.12/dist-packages (from SQLAlchemy<3,>=1.4->langchain) (3.2.4)\n",
            "Requirement already satisfied: regex>=2022.1.18 in /usr/local/lib/python3.12/dist-packages (from tiktoken<1,>=0.7->langchain-openai) (2024.11.6)\n",
            "Requirement already satisfied: httpcore==1.* in /usr/local/lib/python3.12/dist-packages (from httpx<1,>=0.23.0->langsmith>=0.1.17->langchain) (1.0.9)\n",
            "Requirement already satisfied: h11>=0.16 in /usr/local/lib/python3.12/dist-packages (from httpcore==1.*->httpx<1,>=0.23.0->langsmith>=0.1.17->langchain) (0.16.0)\n",
            "Requirement already satisfied: jsonpointer>=1.9 in /usr/local/lib/python3.12/dist-packages (from jsonpatch<2.0,>=1.33->langchain-core<1.0.0,>=0.3.72->langchain) (3.0.0)\n",
            "Downloading langchain_openai-0.3.31-py3-none-any.whl (74 kB)\n",
            "\u001b[2K   \u001b[90m━━━━━━━━━━━━━━━━━━━━━━━━━━━━━━━━━━━━━━━━\u001b[0m \u001b[32m74.5/74.5 kB\u001b[0m \u001b[31m2.1 MB/s\u001b[0m eta \u001b[36m0:00:00\u001b[0m\n",
            "\u001b[?25hInstalling collected packages: langchain-openai\n",
            "Successfully installed langchain-openai-0.3.31\n"
          ]
        }
      ]
    },
    {
      "cell_type": "code",
      "source": [
        "from langchain_openai import ChatOpenAI\n",
        "from langchain.prompts import PromptTemplate\n",
        "\n",
        "# 1. Initialize LLM\n",
        "\n",
        "from google.colab import userdata\n",
        "OPENAI_API_KEY = userdata.get('OPENAI_API_KEY')\n",
        "\n",
        "llm = ChatOpenAI(model_name=\"gpt-4o-mini\", temperature=0.7, api_key=OPENAI_API_KEY)"
      ],
      "metadata": {
        "id": "CAtG1kjyjXQM"
      },
      "execution_count": 5,
      "outputs": []
    },
    {
      "cell_type": "code",
      "source": [
        "# 2. Define automated prompt template\n",
        "prompt_template = PromptTemplate.from_template(\"\"\"\n",
        "You are a marketing expert. Write a personalized email to {customer_name}.\n",
        "Mention their recent purchase of {last_purchase} and recommend {recommended_product}.\n",
        "Use a polite and persuasive business tone.\n",
        "Limit the email to around 150 words.\n",
        "\"\"\")"
      ],
      "metadata": {
        "id": "y2Q5jWYwjdVE"
      },
      "execution_count": 15,
      "outputs": []
    },
    {
      "cell_type": "code",
      "source": [
        "# 3. Multiple customer data\n",
        "customers = [\n",
        "    {\"customer_name\": \"Alice Johnson\", \"last_purchase\": \"wireless earbuds\", \"recommended_product\": \"premium noise-cancelling headphones\"},\n",
        "    {\"customer_name\": \"Michael Smith\", \"last_purchase\": \"wireless keyboard\", \"recommended_product\": \"ergonomic mouse\"},\n",
        "    {\"customer_name\": \"Sophie Lee\", \"last_purchase\": \"office chair\", \"recommended_product\": \"adjustable standing desk\"}\n",
        "]"
      ],
      "metadata": {
        "id": "umLhecJojzz0"
      },
      "execution_count": 16,
      "outputs": []
    },
    {
      "cell_type": "code",
      "source": [
        "# 4. Fill prompt dynamically\n",
        "for customer in customers: # Loop through customers and generate emails\n",
        "    filled_prompt = prompt_template.format(**customer)\n",
        "\n",
        "# 5. Generate email\n",
        "    response = llm.invoke(filled_prompt)\n",
        "# 6. Output result\n",
        "    print(f\"Customer: {customer['customer_name']}\")\n",
        "    print(\"Prompt:\\n\", filled_prompt)\n",
        "    print(\"\\nGenerated Email:\\n\", response.content)\n",
        "    print(\"=\" * 50, \"\\n\")"
      ],
      "metadata": {
        "colab": {
          "base_uri": "https://localhost:8080/"
        },
        "id": "rDtr2n3nj23a",
        "outputId": "45b8122e-f595-459d-ebf6-f4b9dfad8759"
      },
      "execution_count": 17,
      "outputs": [
        {
          "output_type": "stream",
          "name": "stdout",
          "text": [
            "Customer: Alice Johnson\n",
            "Prompt:\n",
            " \n",
            "You are a marketing expert. Write a personalized email to Alice Johnson.\n",
            "Mention their recent purchase of wireless earbuds and recommend premium noise-cancelling headphones.\n",
            "Use a polite and persuasive business tone.\n",
            "Limit the email to around 150 words.\n",
            "\n",
            "\n",
            "Generated Email:\n",
            " Subject: Enhance Your Audio Experience, Alice!\n",
            "\n",
            "Dear Alice,\n",
            "\n",
            "I hope this message finds you well! I wanted to take a moment to thank you for your recent purchase of our wireless earbuds. We’re thrilled to have you as part of our community!\n",
            "\n",
            "As someone who appreciates quality audio, I wanted to recommend our premium noise-cancelling headphones. These headphones are designed to deliver an unparalleled listening experience, effectively blocking out background noise, making them perfect for both work and leisure. Whether you’re enjoying your favorite music or focusing on an important task, they can truly elevate your experience.\n",
            "\n",
            "If you have any questions or would like to learn more about this exceptional product, please don’t hesitate to reach out. We’re here to help you find the perfect audio solution!\n",
            "\n",
            "Thank you again for choosing us, and happy listening!\n",
            "\n",
            "Best regards,\n",
            "\n",
            "[Your Name]  \n",
            "[Your Position]  \n",
            "[Your Company]  \n",
            "[Contact Information]\n",
            "================================================== \n",
            "\n",
            "Customer: Michael Smith\n",
            "Prompt:\n",
            " \n",
            "You are a marketing expert. Write a personalized email to Michael Smith.\n",
            "Mention their recent purchase of wireless keyboard and recommend ergonomic mouse.\n",
            "Use a polite and persuasive business tone.\n",
            "Limit the email to around 150 words.\n",
            "\n",
            "\n",
            "Generated Email:\n",
            " Subject: Enhance Your Setup with an Ergonomic Mouse\n",
            "\n",
            "Dear Michael,\n",
            "\n",
            "I hope this message finds you well! Thank you for choosing our wireless keyboard—an excellent addition to your workspace. I trust you are enjoying the seamless typing experience it offers.\n",
            "\n",
            "To further enhance your productivity and comfort, I would like to recommend pairing your new keyboard with an ergonomic mouse. Our top-rated ergonomic mouse is designed to reduce strain on your wrist and improve your overall posture during long working hours. It’s a fantastic way to complement your recent purchase and elevate your work experience.\n",
            "\n",
            "If you have any questions or need assistance, please feel free to reach out. We’re here to help you find the perfect products to suit your needs.\n",
            "\n",
            "Best regards,\n",
            "\n",
            "[Your Name]  \n",
            "[Your Position]  \n",
            "[Your Company]  \n",
            "[Your Contact Information]  \n",
            "================================================== \n",
            "\n",
            "Customer: Sophie Lee\n",
            "Prompt:\n",
            " \n",
            "You are a marketing expert. Write a personalized email to Sophie Lee.\n",
            "Mention their recent purchase of office chair and recommend adjustable standing desk.\n",
            "Use a polite and persuasive business tone.\n",
            "Limit the email to around 150 words.\n",
            "\n",
            "\n",
            "Generated Email:\n",
            " Subject: Elevate Your Workspace Experience, Sophie!\n",
            "\n",
            "Dear Sophie,\n",
            "\n",
            "I hope this message finds you well! Thank you for your recent purchase of the office chair; I trust it has already begun to enhance your comfort and productivity.\n",
            "\n",
            "To further improve your workspace, I’d like to recommend our adjustable standing desk. This versatile solution not only promotes better posture but also encourages movement throughout your workday, helping to boost energy and focus. With customizable height settings, it easily adapts to your needs, whether you’re sitting or standing.\n",
            "\n",
            "Investing in an adjustable standing desk can be a game-changer for your overall well-being and work efficiency. If you have any questions or would like more information, please feel free to reach out.\n",
            "\n",
            "Thank you for being a valued customer!\n",
            "\n",
            "Best regards,\n",
            "\n",
            "[Your Name]  \n",
            "[Your Position]  \n",
            "[Your Company]  \n",
            "[Your Contact Information]\n",
            "================================================== \n",
            "\n"
          ]
        }
      ]
    }
  ]
}