{
  "nbformat": 4,
  "nbformat_minor": 0,
  "metadata": {
    "colab": {
      "provenance": [],
      "authorship_tag": "ABX9TyMVvgBBlWn/mwkDlE6Q/41M",
      "include_colab_link": true
    },
    "kernelspec": {
      "name": "python3",
      "display_name": "Python 3"
    },
    "language_info": {
      "name": "python"
    }
  },
  "cells": [
    {
      "cell_type": "markdown",
      "metadata": {
        "id": "view-in-github",
        "colab_type": "text"
      },
      "source": [
        "<a href=\"https://colab.research.google.com/github/denverkim/Uzbek/blob/main/22_2.ipynb\" target=\"_parent\"><img src=\"https://colab.research.google.com/assets/colab-badge.svg\" alt=\"Open In Colab\"/></a>"
      ]
    },
    {
      "cell_type": "markdown",
      "source": [
        "# Automatic Student Feedback Generation"
      ],
      "metadata": {
        "id": "9djc4SmnskXx"
      }
    },
    {
      "cell_type": "code",
      "execution_count": null,
      "metadata": {
        "id": "wOvmcBf-sHiZ"
      },
      "outputs": [],
      "source": [
        "# Prompt Template\n",
        "# You are an assistant teacher.\n",
        "# Generate personalized feedback for the student.\n",
        "\n",
        "# Student: {student_name}\n",
        "# Score: {score}\n",
        "\n",
        "# Feedback should include:\n",
        "# - Praise for strengths\n",
        "# - Suggestions for improvement\n",
        "# - Encouragement to keep learning"
      ]
    },
    {
      "cell_type": "code",
      "source": [
        "from openai import OpenAI\n",
        "from string import Template\n",
        "from google.colab import userdata\n",
        "from IPython.display import Markdown, display\n",
        "\n",
        "# Load API key from Google Colab's userdata\n",
        "OPENAI_API_KEY = userdata.get('OPENAI_API_KEY')\n",
        "\n",
        "# Initialize OpenAI Client\n",
        "client = OpenAI(api_key=OPENAI_API_KEY)\n",
        "\n",
        "# Example student data\n",
        "students = [\n",
        "    {\"name\": \"Alice\", \"score\": 92},\n",
        "    {\"name\": \"Brian\", \"score\": 76},\n",
        "    {\"name\": \"Sophie\", \"score\": 64},\n",
        "]\n",
        "\n",
        "# Prompt template for personalized feedback\n",
        "feedback_template = Template(\"\"\"\n",
        "You are an assistant teacher.\n",
        "Generate personalized feedback.\n",
        "\n",
        "Student: $name\n",
        "Score: $score\n",
        "Feedback:\n",
        "\"\"\")\n",
        "\n",
        "# Function to call the OpenAI API and generate feedback\n",
        "def generate_feedback(prompt: str) -> str:\n",
        "    response = client.chat.completions.create(\n",
        "        model=\"gpt-4o-mini\",   # You can change to \"gpt-4o\" or another model if needed\n",
        "        messages=[\n",
        "            {\"role\": \"system\", \"content\": \"You are an educational assistant.\"},\n",
        "            {\"role\": \"user\", \"content\": prompt},\n",
        "        ],\n",
        "        temperature=0.7,\n",
        "    )\n",
        "    return response.choices[0].message.content.strip()\n",
        "\n",
        "# Run workflow for each student\n",
        "for s in students:\n",
        "    # Fill the template with student data\n",
        "    prompt = feedback_template.substitute(name=s[\"name\"], score=s[\"score\"])\n",
        "\n",
        "    # Generate feedback using the API\n",
        "    result = generate_feedback(prompt)\n",
        "\n",
        "    # Print student name and score\n",
        "    print(f\"Student: {s['name']} / Score: {s['score']}\")\n",
        "\n",
        "    # Display the AI-generated feedback as rendered Markdown\n",
        "    display(Markdown(result))\n",
        "\n",
        "    print(\"=\"*60)\n"
      ],
      "metadata": {
        "colab": {
          "base_uri": "https://localhost:8080/",
          "height": 883
        },
        "id": "3rBpRlbTtBIh",
        "outputId": "6997d018-d12f-47eb-beef-0a63a22ff690"
      },
      "execution_count": 7,
      "outputs": [
        {
          "output_type": "stream",
          "name": "stdout",
          "text": [
            "Student: Alice / Score: 92\n"
          ]
        },
        {
          "output_type": "display_data",
          "data": {
            "text/plain": [
              "<IPython.core.display.Markdown object>"
            ],
            "text/markdown": "Dear Alice,\n\nCongratulations on achieving a fantastic score of 92! Your hard work and dedication have truly paid off. It's evident that you have a strong understanding of the material, and your ability to engage with the concepts is impressive.\n\nTo further enhance your learning, consider exploring deeper connections within the subject. You might also want to challenge yourself with additional problems or projects that push your boundaries. Remember, the learning journey is ongoing, and there’s always more to discover!\n\nKeep up the great work, and don't hesitate to reach out if you have any questions or need support as you continue your studies.\n\nBest,  \n[Your Name]"
          },
          "metadata": {}
        },
        {
          "output_type": "stream",
          "name": "stdout",
          "text": [
            "============================================================\n",
            "Student: Brian / Score: 76\n"
          ]
        },
        {
          "output_type": "display_data",
          "data": {
            "text/plain": [
              "<IPython.core.display.Markdown object>"
            ],
            "text/markdown": "Dear Brian,\n\nThank you for your hard work and effort in your recent assignment. Scoring a 76 shows that you have a solid understanding of the material, and I appreciate the thought you put into your work. \n\nHowever, there are a few areas where you can improve. I encourage you to review the concepts we discussed in class, particularly those related to [specific topic or concept], as this will strengthen your understanding and help you perform even better next time. \n\nAdditionally, I noticed some minor errors in [specific sections or questions], so taking a little extra time to double-check your work could help you avoid those mistakes in the future. \n\nKeep up the great effort, and don't hesitate to reach out if you have any questions or need clarification on any topics. I’m here to support you!\n\nBest,\n[Your Name]"
          },
          "metadata": {}
        },
        {
          "output_type": "stream",
          "name": "stdout",
          "text": [
            "============================================================\n",
            "Student: Sophie / Score: 64\n"
          ]
        },
        {
          "output_type": "display_data",
          "data": {
            "text/plain": [
              "<IPython.core.display.Markdown object>"
            ],
            "text/markdown": "Dear Sophie,\n\nThank you for your hard work on your recent assignment! I see that you scored a 64, which shows that you have a solid understanding of some concepts, but there are areas where you can improve. \n\nHere are a few points to consider:\n\n1. **Strengths**: You demonstrated good comprehension in [specific topic or concept]. Your ability to articulate your thoughts on this subject was commendable.\n\n2. **Areas for Improvement**: There were some misunderstandings in [specific areas or topics]. I encourage you to review these materials and focus on how to apply the concepts more effectively.\n\n3. **Next Steps**: Consider setting aside some time to revisit the feedback I provided on your paper. Additionally, practicing with sample questions or discussing the material with your classmates could really help solidify your understanding.\n\n4. **Resources**: If you need extra help, don't hesitate to reach out. I recommend [specific resource, such as a textbook, website, or tutoring service] which can provide further clarification on the topics we covered.\n\nI believe with a bit more practice and focus, you can significantly improve your understanding and performance. Keep up the effort, and remember that learning is a journey!\n\nBest,  \n[Your Name]"
          },
          "metadata": {}
        },
        {
          "output_type": "stream",
          "name": "stdout",
          "text": [
            "============================================================\n"
          ]
        }
      ]
    }
  ]
}